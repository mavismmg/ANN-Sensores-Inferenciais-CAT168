{
  "cells": [
    {
      "cell_type": "code",
      "execution_count": 103,
      "metadata": {
        "id": "uXWL6oo22ChP"
      },
      "outputs": [],
      "source": [
        "import pandas as pd\n",
        "import numpy as np\n",
        "import tensorflow as tf\n",
        "from sklearn.model_selection import train_test_split\n",
        "from sklearn.preprocessing import StandardScaler\n",
        "from sklearn.linear_model import LogisticRegression\n",
        "from sklearn.metrics import accuracy_score\n",
        "from keras.callbacks import EarlyStopping\n",
        "from sklearn.metrics import confusion_matrix"
      ]
    },
    {
      "cell_type": "code",
      "execution_count": 104,
      "metadata": {
        "id": "ednQ6pfD2ChS"
      },
      "outputs": [],
      "source": [
        "df = pd.read_excel('oil_training_data.xlsx', sheet_name='tab_treinamento1')\n",
        "\n",
        "for i in df.columns:\n",
        "    df[i] = df[i]*0.0000001"
      ]
    },
    {
      "cell_type": "code",
      "execution_count": 105,
      "metadata": {
        "colab": {
          "base_uri": "https://localhost:8080/",
          "height": 206
        },
        "id": "LUc1jt7U2ChT",
        "outputId": "f8ddb8f1-02ed-4e50-8358-1ebe3ce5db23"
      },
      "outputs": [
        {
          "output_type": "execute_result",
          "data": {
            "text/plain": [
              "       x1      x2      x3\n",
              "0 -0.3565  0.0620  5.9891\n",
              "1 -0.7842  1.1267  5.5912\n",
              "2  0.3012  0.5611  5.8234\n",
              "3  0.7757  1.0648  8.0677\n",
              "4  0.1570  0.8028  6.3040"
            ],
            "text/html": [
              "\n",
              "  <div id=\"df-39ea4c14-bd4e-44af-8d32-edd794bf2433\" class=\"colab-df-container\">\n",
              "    <div>\n",
              "<style scoped>\n",
              "    .dataframe tbody tr th:only-of-type {\n",
              "        vertical-align: middle;\n",
              "    }\n",
              "\n",
              "    .dataframe tbody tr th {\n",
              "        vertical-align: top;\n",
              "    }\n",
              "\n",
              "    .dataframe thead th {\n",
              "        text-align: right;\n",
              "    }\n",
              "</style>\n",
              "<table border=\"1\" class=\"dataframe\">\n",
              "  <thead>\n",
              "    <tr style=\"text-align: right;\">\n",
              "      <th></th>\n",
              "      <th>x1</th>\n",
              "      <th>x2</th>\n",
              "      <th>x3</th>\n",
              "    </tr>\n",
              "  </thead>\n",
              "  <tbody>\n",
              "    <tr>\n",
              "      <th>0</th>\n",
              "      <td>-0.3565</td>\n",
              "      <td>0.0620</td>\n",
              "      <td>5.9891</td>\n",
              "    </tr>\n",
              "    <tr>\n",
              "      <th>1</th>\n",
              "      <td>-0.7842</td>\n",
              "      <td>1.1267</td>\n",
              "      <td>5.5912</td>\n",
              "    </tr>\n",
              "    <tr>\n",
              "      <th>2</th>\n",
              "      <td>0.3012</td>\n",
              "      <td>0.5611</td>\n",
              "      <td>5.8234</td>\n",
              "    </tr>\n",
              "    <tr>\n",
              "      <th>3</th>\n",
              "      <td>0.7757</td>\n",
              "      <td>1.0648</td>\n",
              "      <td>8.0677</td>\n",
              "    </tr>\n",
              "    <tr>\n",
              "      <th>4</th>\n",
              "      <td>0.1570</td>\n",
              "      <td>0.8028</td>\n",
              "      <td>6.3040</td>\n",
              "    </tr>\n",
              "  </tbody>\n",
              "</table>\n",
              "</div>\n",
              "    <div class=\"colab-df-buttons\">\n",
              "\n",
              "  <div class=\"colab-df-container\">\n",
              "    <button class=\"colab-df-convert\" onclick=\"convertToInteractive('df-39ea4c14-bd4e-44af-8d32-edd794bf2433')\"\n",
              "            title=\"Convert this dataframe to an interactive table.\"\n",
              "            style=\"display:none;\">\n",
              "\n",
              "  <svg xmlns=\"http://www.w3.org/2000/svg\" height=\"24px\" viewBox=\"0 -960 960 960\">\n",
              "    <path d=\"M120-120v-720h720v720H120Zm60-500h600v-160H180v160Zm220 220h160v-160H400v160Zm0 220h160v-160H400v160ZM180-400h160v-160H180v160Zm440 0h160v-160H620v160ZM180-180h160v-160H180v160Zm440 0h160v-160H620v160Z\"/>\n",
              "  </svg>\n",
              "    </button>\n",
              "\n",
              "  <style>\n",
              "    .colab-df-container {\n",
              "      display:flex;\n",
              "      gap: 12px;\n",
              "    }\n",
              "\n",
              "    .colab-df-convert {\n",
              "      background-color: #E8F0FE;\n",
              "      border: none;\n",
              "      border-radius: 50%;\n",
              "      cursor: pointer;\n",
              "      display: none;\n",
              "      fill: #1967D2;\n",
              "      height: 32px;\n",
              "      padding: 0 0 0 0;\n",
              "      width: 32px;\n",
              "    }\n",
              "\n",
              "    .colab-df-convert:hover {\n",
              "      background-color: #E2EBFA;\n",
              "      box-shadow: 0px 1px 2px rgba(60, 64, 67, 0.3), 0px 1px 3px 1px rgba(60, 64, 67, 0.15);\n",
              "      fill: #174EA6;\n",
              "    }\n",
              "\n",
              "    .colab-df-buttons div {\n",
              "      margin-bottom: 4px;\n",
              "    }\n",
              "\n",
              "    [theme=dark] .colab-df-convert {\n",
              "      background-color: #3B4455;\n",
              "      fill: #D2E3FC;\n",
              "    }\n",
              "\n",
              "    [theme=dark] .colab-df-convert:hover {\n",
              "      background-color: #434B5C;\n",
              "      box-shadow: 0px 1px 3px 1px rgba(0, 0, 0, 0.15);\n",
              "      filter: drop-shadow(0px 1px 2px rgba(0, 0, 0, 0.3));\n",
              "      fill: #FFFFFF;\n",
              "    }\n",
              "  </style>\n",
              "\n",
              "    <script>\n",
              "      const buttonEl =\n",
              "        document.querySelector('#df-39ea4c14-bd4e-44af-8d32-edd794bf2433 button.colab-df-convert');\n",
              "      buttonEl.style.display =\n",
              "        google.colab.kernel.accessAllowed ? 'block' : 'none';\n",
              "\n",
              "      async function convertToInteractive(key) {\n",
              "        const element = document.querySelector('#df-39ea4c14-bd4e-44af-8d32-edd794bf2433');\n",
              "        const dataTable =\n",
              "          await google.colab.kernel.invokeFunction('convertToInteractive',\n",
              "                                                    [key], {});\n",
              "        if (!dataTable) return;\n",
              "\n",
              "        const docLinkHtml = 'Like what you see? Visit the ' +\n",
              "          '<a target=\"_blank\" href=https://colab.research.google.com/notebooks/data_table.ipynb>data table notebook</a>'\n",
              "          + ' to learn more about interactive tables.';\n",
              "        element.innerHTML = '';\n",
              "        dataTable['output_type'] = 'display_data';\n",
              "        await google.colab.output.renderOutput(dataTable, element);\n",
              "        const docLink = document.createElement('div');\n",
              "        docLink.innerHTML = docLinkHtml;\n",
              "        element.appendChild(docLink);\n",
              "      }\n",
              "    </script>\n",
              "  </div>\n",
              "\n",
              "\n",
              "<div id=\"df-7d4a54d9-2e52-4fd4-adac-9e0a65ead089\">\n",
              "  <button class=\"colab-df-quickchart\" onclick=\"quickchart('df-7d4a54d9-2e52-4fd4-adac-9e0a65ead089')\"\n",
              "            title=\"Suggest charts.\"\n",
              "            style=\"display:none;\">\n",
              "\n",
              "<svg xmlns=\"http://www.w3.org/2000/svg\" height=\"24px\"viewBox=\"0 0 24 24\"\n",
              "     width=\"24px\">\n",
              "    <g>\n",
              "        <path d=\"M19 3H5c-1.1 0-2 .9-2 2v14c0 1.1.9 2 2 2h14c1.1 0 2-.9 2-2V5c0-1.1-.9-2-2-2zM9 17H7v-7h2v7zm4 0h-2V7h2v10zm4 0h-2v-4h2v4z\"/>\n",
              "    </g>\n",
              "</svg>\n",
              "  </button>\n",
              "\n",
              "<style>\n",
              "  .colab-df-quickchart {\n",
              "    background-color: #E8F0FE;\n",
              "    border: none;\n",
              "    border-radius: 50%;\n",
              "    cursor: pointer;\n",
              "    display: none;\n",
              "    fill: #1967D2;\n",
              "    height: 32px;\n",
              "    padding: 0 0 0 0;\n",
              "    width: 32px;\n",
              "  }\n",
              "\n",
              "  .colab-df-quickchart:hover {\n",
              "    background-color: #E2EBFA;\n",
              "    box-shadow: 0px 1px 2px rgba(60, 64, 67, 0.3), 0px 1px 3px 1px rgba(60, 64, 67, 0.15);\n",
              "    fill: #174EA6;\n",
              "  }\n",
              "\n",
              "  [theme=dark] .colab-df-quickchart {\n",
              "    background-color: #3B4455;\n",
              "    fill: #D2E3FC;\n",
              "  }\n",
              "\n",
              "  [theme=dark] .colab-df-quickchart:hover {\n",
              "    background-color: #434B5C;\n",
              "    box-shadow: 0px 1px 3px 1px rgba(0, 0, 0, 0.15);\n",
              "    filter: drop-shadow(0px 1px 2px rgba(0, 0, 0, 0.3));\n",
              "    fill: #FFFFFF;\n",
              "  }\n",
              "</style>\n",
              "\n",
              "  <script>\n",
              "    async function quickchart(key) {\n",
              "      const charts = await google.colab.kernel.invokeFunction(\n",
              "          'suggestCharts', [key], {});\n",
              "    }\n",
              "    (() => {\n",
              "      let quickchartButtonEl =\n",
              "        document.querySelector('#df-7d4a54d9-2e52-4fd4-adac-9e0a65ead089 button');\n",
              "      quickchartButtonEl.style.display =\n",
              "        google.colab.kernel.accessAllowed ? 'block' : 'none';\n",
              "    })();\n",
              "  </script>\n",
              "</div>\n",
              "    </div>\n",
              "  </div>\n"
            ]
          },
          "metadata": {},
          "execution_count": 105
        }
      ],
      "source": [
        "df_test = pd.read_excel('oil_test_data.xlsx', sheet_name='tab_teste1')\n",
        "\n",
        "for i in df_test.columns:\n",
        "    df_test[i] = df_test[i]*0.0000001\n",
        "\n",
        "df_test.head()"
      ]
    },
    {
      "cell_type": "code",
      "execution_count": 106,
      "metadata": {
        "colab": {
          "base_uri": "https://localhost:8080/",
          "height": 258
        },
        "id": "Y5rz2zu72ChU",
        "outputId": "2d7260e4-271d-4aab-fbaa-3fa4c19d10dd"
      },
      "outputs": [
        {
          "output_type": "stream",
          "name": "stdout",
          "text": [
            "1    16\n",
            "0    14\n",
            "Name: classe, dtype: int64\n"
          ]
        },
        {
          "output_type": "execute_result",
          "data": {
            "text/plain": [
              "       x1      x2       x3  classe\n",
              "0 -0.6508  0.1097   4.0009       0\n",
              "1 -1.4492  0.8896   4.4005       0\n",
              "2  2.0850  0.6876  12.0710       0\n",
              "3  0.2626  1.1476   7.7985       1\n",
              "4  0.6418  1.0234   7.0427       1"
            ],
            "text/html": [
              "\n",
              "  <div id=\"df-dc5344c4-6427-4d62-b3ad-ad81c60a98e1\" class=\"colab-df-container\">\n",
              "    <div>\n",
              "<style scoped>\n",
              "    .dataframe tbody tr th:only-of-type {\n",
              "        vertical-align: middle;\n",
              "    }\n",
              "\n",
              "    .dataframe tbody tr th {\n",
              "        vertical-align: top;\n",
              "    }\n",
              "\n",
              "    .dataframe thead th {\n",
              "        text-align: right;\n",
              "    }\n",
              "</style>\n",
              "<table border=\"1\" class=\"dataframe\">\n",
              "  <thead>\n",
              "    <tr style=\"text-align: right;\">\n",
              "      <th></th>\n",
              "      <th>x1</th>\n",
              "      <th>x2</th>\n",
              "      <th>x3</th>\n",
              "      <th>classe</th>\n",
              "    </tr>\n",
              "  </thead>\n",
              "  <tbody>\n",
              "    <tr>\n",
              "      <th>0</th>\n",
              "      <td>-0.6508</td>\n",
              "      <td>0.1097</td>\n",
              "      <td>4.0009</td>\n",
              "      <td>0</td>\n",
              "    </tr>\n",
              "    <tr>\n",
              "      <th>1</th>\n",
              "      <td>-1.4492</td>\n",
              "      <td>0.8896</td>\n",
              "      <td>4.4005</td>\n",
              "      <td>0</td>\n",
              "    </tr>\n",
              "    <tr>\n",
              "      <th>2</th>\n",
              "      <td>2.0850</td>\n",
              "      <td>0.6876</td>\n",
              "      <td>12.0710</td>\n",
              "      <td>0</td>\n",
              "    </tr>\n",
              "    <tr>\n",
              "      <th>3</th>\n",
              "      <td>0.2626</td>\n",
              "      <td>1.1476</td>\n",
              "      <td>7.7985</td>\n",
              "      <td>1</td>\n",
              "    </tr>\n",
              "    <tr>\n",
              "      <th>4</th>\n",
              "      <td>0.6418</td>\n",
              "      <td>1.0234</td>\n",
              "      <td>7.0427</td>\n",
              "      <td>1</td>\n",
              "    </tr>\n",
              "  </tbody>\n",
              "</table>\n",
              "</div>\n",
              "    <div class=\"colab-df-buttons\">\n",
              "\n",
              "  <div class=\"colab-df-container\">\n",
              "    <button class=\"colab-df-convert\" onclick=\"convertToInteractive('df-dc5344c4-6427-4d62-b3ad-ad81c60a98e1')\"\n",
              "            title=\"Convert this dataframe to an interactive table.\"\n",
              "            style=\"display:none;\">\n",
              "\n",
              "  <svg xmlns=\"http://www.w3.org/2000/svg\" height=\"24px\" viewBox=\"0 -960 960 960\">\n",
              "    <path d=\"M120-120v-720h720v720H120Zm60-500h600v-160H180v160Zm220 220h160v-160H400v160Zm0 220h160v-160H400v160ZM180-400h160v-160H180v160Zm440 0h160v-160H620v160ZM180-180h160v-160H180v160Zm440 0h160v-160H620v160Z\"/>\n",
              "  </svg>\n",
              "    </button>\n",
              "\n",
              "  <style>\n",
              "    .colab-df-container {\n",
              "      display:flex;\n",
              "      gap: 12px;\n",
              "    }\n",
              "\n",
              "    .colab-df-convert {\n",
              "      background-color: #E8F0FE;\n",
              "      border: none;\n",
              "      border-radius: 50%;\n",
              "      cursor: pointer;\n",
              "      display: none;\n",
              "      fill: #1967D2;\n",
              "      height: 32px;\n",
              "      padding: 0 0 0 0;\n",
              "      width: 32px;\n",
              "    }\n",
              "\n",
              "    .colab-df-convert:hover {\n",
              "      background-color: #E2EBFA;\n",
              "      box-shadow: 0px 1px 2px rgba(60, 64, 67, 0.3), 0px 1px 3px 1px rgba(60, 64, 67, 0.15);\n",
              "      fill: #174EA6;\n",
              "    }\n",
              "\n",
              "    .colab-df-buttons div {\n",
              "      margin-bottom: 4px;\n",
              "    }\n",
              "\n",
              "    [theme=dark] .colab-df-convert {\n",
              "      background-color: #3B4455;\n",
              "      fill: #D2E3FC;\n",
              "    }\n",
              "\n",
              "    [theme=dark] .colab-df-convert:hover {\n",
              "      background-color: #434B5C;\n",
              "      box-shadow: 0px 1px 3px 1px rgba(0, 0, 0, 0.15);\n",
              "      filter: drop-shadow(0px 1px 2px rgba(0, 0, 0, 0.3));\n",
              "      fill: #FFFFFF;\n",
              "    }\n",
              "  </style>\n",
              "\n",
              "    <script>\n",
              "      const buttonEl =\n",
              "        document.querySelector('#df-dc5344c4-6427-4d62-b3ad-ad81c60a98e1 button.colab-df-convert');\n",
              "      buttonEl.style.display =\n",
              "        google.colab.kernel.accessAllowed ? 'block' : 'none';\n",
              "\n",
              "      async function convertToInteractive(key) {\n",
              "        const element = document.querySelector('#df-dc5344c4-6427-4d62-b3ad-ad81c60a98e1');\n",
              "        const dataTable =\n",
              "          await google.colab.kernel.invokeFunction('convertToInteractive',\n",
              "                                                    [key], {});\n",
              "        if (!dataTable) return;\n",
              "\n",
              "        const docLinkHtml = 'Like what you see? Visit the ' +\n",
              "          '<a target=\"_blank\" href=https://colab.research.google.com/notebooks/data_table.ipynb>data table notebook</a>'\n",
              "          + ' to learn more about interactive tables.';\n",
              "        element.innerHTML = '';\n",
              "        dataTable['output_type'] = 'display_data';\n",
              "        await google.colab.output.renderOutput(dataTable, element);\n",
              "        const docLink = document.createElement('div');\n",
              "        docLink.innerHTML = docLinkHtml;\n",
              "        element.appendChild(docLink);\n",
              "      }\n",
              "    </script>\n",
              "  </div>\n",
              "\n",
              "\n",
              "<div id=\"df-ecdb2705-d027-41d4-8742-c7cbc65ec4b4\">\n",
              "  <button class=\"colab-df-quickchart\" onclick=\"quickchart('df-ecdb2705-d027-41d4-8742-c7cbc65ec4b4')\"\n",
              "            title=\"Suggest charts.\"\n",
              "            style=\"display:none;\">\n",
              "\n",
              "<svg xmlns=\"http://www.w3.org/2000/svg\" height=\"24px\"viewBox=\"0 0 24 24\"\n",
              "     width=\"24px\">\n",
              "    <g>\n",
              "        <path d=\"M19 3H5c-1.1 0-2 .9-2 2v14c0 1.1.9 2 2 2h14c1.1 0 2-.9 2-2V5c0-1.1-.9-2-2-2zM9 17H7v-7h2v7zm4 0h-2V7h2v10zm4 0h-2v-4h2v4z\"/>\n",
              "    </g>\n",
              "</svg>\n",
              "  </button>\n",
              "\n",
              "<style>\n",
              "  .colab-df-quickchart {\n",
              "    background-color: #E8F0FE;\n",
              "    border: none;\n",
              "    border-radius: 50%;\n",
              "    cursor: pointer;\n",
              "    display: none;\n",
              "    fill: #1967D2;\n",
              "    height: 32px;\n",
              "    padding: 0 0 0 0;\n",
              "    width: 32px;\n",
              "  }\n",
              "\n",
              "  .colab-df-quickchart:hover {\n",
              "    background-color: #E2EBFA;\n",
              "    box-shadow: 0px 1px 2px rgba(60, 64, 67, 0.3), 0px 1px 3px 1px rgba(60, 64, 67, 0.15);\n",
              "    fill: #174EA6;\n",
              "  }\n",
              "\n",
              "  [theme=dark] .colab-df-quickchart {\n",
              "    background-color: #3B4455;\n",
              "    fill: #D2E3FC;\n",
              "  }\n",
              "\n",
              "  [theme=dark] .colab-df-quickchart:hover {\n",
              "    background-color: #434B5C;\n",
              "    box-shadow: 0px 1px 3px 1px rgba(0, 0, 0, 0.15);\n",
              "    filter: drop-shadow(0px 1px 2px rgba(0, 0, 0, 0.3));\n",
              "    fill: #FFFFFF;\n",
              "  }\n",
              "</style>\n",
              "\n",
              "  <script>\n",
              "    async function quickchart(key) {\n",
              "      const charts = await google.colab.kernel.invokeFunction(\n",
              "          'suggestCharts', [key], {});\n",
              "    }\n",
              "    (() => {\n",
              "      let quickchartButtonEl =\n",
              "        document.querySelector('#df-ecdb2705-d027-41d4-8742-c7cbc65ec4b4 button');\n",
              "      quickchartButtonEl.style.display =\n",
              "        google.colab.kernel.accessAllowed ? 'block' : 'none';\n",
              "    })();\n",
              "  </script>\n",
              "</div>\n",
              "    </div>\n",
              "  </div>\n"
            ]
          },
          "metadata": {},
          "execution_count": 106
        }
      ],
      "source": [
        "df.loc[df['classe'] == -1, 'classe'] = 0\n",
        "df['classe'] = df['classe'].astype(int)\n",
        "print(df['classe'].value_counts())\n",
        "df.head()"
      ]
    },
    {
      "cell_type": "code",
      "source": [
        "X_train, X_test, y_train, y_test = train_test_split(df[['x1', 'x2', 'x3']], df[['classe']], test_size=0.32)"
      ],
      "metadata": {
        "id": "O5GnzTIzDj-i"
      },
      "execution_count": 107,
      "outputs": []
    },
    {
      "cell_type": "code",
      "source": [
        "X_train.shape, X_test.shape, y_train.shape, y_test.shape"
      ],
      "metadata": {
        "colab": {
          "base_uri": "https://localhost:8080/",
          "height": 0
        },
        "id": "oHub55nUD8FT",
        "outputId": "0d7de1dd-8726-4470-dbcd-f2e97abd0a0a"
      },
      "execution_count": 108,
      "outputs": [
        {
          "output_type": "execute_result",
          "data": {
            "text/plain": [
              "((20, 3), (10, 3), (20, 1), (10, 1))"
            ]
          },
          "metadata": {},
          "execution_count": 108
        }
      ]
    },
    {
      "cell_type": "code",
      "execution_count": 109,
      "metadata": {
        "id": "c9vKoh0U2ChU"
      },
      "outputs": [],
      "source": [
        "scaler = StandardScaler()\n",
        "X_train = scaler.fit_transform(X_train)\n",
        "\n",
        "test_scaled = scaler.fit_transform(df_test)"
      ]
    },
    {
      "cell_type": "code",
      "source": [
        "print(df_test)"
      ],
      "metadata": {
        "colab": {
          "base_uri": "https://localhost:8080/",
          "height": 0
        },
        "id": "Bc4YZvKMFD6r",
        "outputId": "0a08dd91-b9e9-409f-ae55-c604a8e06d16"
      },
      "execution_count": 110,
      "outputs": [
        {
          "output_type": "stream",
          "name": "stdout",
          "text": [
            "       x1      x2      x3\n",
            "0 -0.3565  0.0620  5.9891\n",
            "1 -0.7842  1.1267  5.5912\n",
            "2  0.3012  0.5611  5.8234\n",
            "3  0.7757  1.0648  8.0677\n",
            "4  0.1570  0.8028  6.3040\n",
            "5 -0.7014  1.0316  3.6005\n",
            "6  0.3748  0.1536  6.1537\n",
            "7 -0.6920  0.9404  4.4058\n",
            "8 -1.3970  0.7141  4.9263\n",
            "9 -1.8842 -0.2805  1.2548\n"
          ]
        }
      ]
    },
    {
      "cell_type": "code",
      "execution_count": 111,
      "metadata": {
        "colab": {
          "base_uri": "https://localhost:8080/",
          "height": 0
        },
        "id": "MFIQWXru2ChV",
        "outputId": "8b4a2fe4-34b8-4339-bd9c-656150b57645"
      },
      "outputs": [
        {
          "output_type": "stream",
          "name": "stdout",
          "text": [
            "[0 1 1 0 1 1 0 1 1 1]\n"
          ]
        },
        {
          "output_type": "stream",
          "name": "stderr",
          "text": [
            "/usr/local/lib/python3.10/dist-packages/sklearn/utils/validation.py:1143: DataConversionWarning: A column-vector y was passed when a 1d array was expected. Please change the shape of y to (n_samples, ), for example using ravel().\n",
            "  y = column_or_1d(y, warn=True)\n"
          ]
        }
      ],
      "source": [
        "model = LogisticRegression()\n",
        "model.fit(X_train, y_train)\n",
        "\n",
        "predict_convencional = model.predict(test_scaled)\n",
        "print(predict_convencional)"
      ]
    },
    {
      "cell_type": "code",
      "execution_count": 112,
      "metadata": {
        "colab": {
          "base_uri": "https://localhost:8080/",
          "height": 0
        },
        "id": "o6EdDVBE2ChV",
        "outputId": "ab36399d-5780-49dd-8fb8-632dbd6064f8"
      },
      "outputs": [
        {
          "output_type": "stream",
          "name": "stdout",
          "text": [
            "Model: \"sequential_20\"\n",
            "_________________________________________________________________\n",
            " Layer (type)                Output Shape              Param #   \n",
            "=================================================================\n",
            " dense_70 (Dense)            (None, 128)               512       \n",
            "                                                                 \n",
            " dense_71 (Dense)            (None, 64)                8256      \n",
            "                                                                 \n",
            " dense_72 (Dense)            (None, 32)                2080      \n",
            "                                                                 \n",
            " dense_73 (Dense)            (None, 1)                 33        \n",
            "                                                                 \n",
            "=================================================================\n",
            "Total params: 10,881\n",
            "Trainable params: 10,881\n",
            "Non-trainable params: 0\n",
            "_________________________________________________________________\n",
            "Epoch 1/50\n",
            "1/1 [==============================] - 1s 1s/step - loss: 6.6484 - accuracy: 0.3000\n",
            "Epoch 2/50\n",
            "1/1 [==============================] - 0s 14ms/step - loss: 4.3808 - accuracy: 0.3000\n",
            "Epoch 3/50\n",
            "1/1 [==============================] - 0s 11ms/step - loss: 1.6679 - accuracy: 0.3000\n",
            "Epoch 4/50\n",
            "1/1 [==============================] - 0s 10ms/step - loss: 1.3490 - accuracy: 0.3000\n",
            "Epoch 5/50\n",
            "1/1 [==============================] - 0s 14ms/step - loss: 1.1632 - accuracy: 0.3000\n",
            "Epoch 6/50\n",
            "1/1 [==============================] - 0s 11ms/step - loss: 1.0368 - accuracy: 0.3000\n",
            "Epoch 7/50\n",
            "1/1 [==============================] - 0s 10ms/step - loss: 0.9371 - accuracy: 0.3500\n",
            "Epoch 8/50\n",
            "1/1 [==============================] - 0s 10ms/step - loss: 0.8531 - accuracy: 0.4000\n",
            "Epoch 9/50\n",
            "1/1 [==============================] - 0s 10ms/step - loss: 0.7811 - accuracy: 0.4000\n",
            "Epoch 10/50\n",
            "1/1 [==============================] - 0s 10ms/step - loss: 0.7171 - accuracy: 0.5000\n",
            "Epoch 11/50\n",
            "1/1 [==============================] - 0s 10ms/step - loss: 0.6594 - accuracy: 0.5000\n",
            "Epoch 12/50\n",
            "1/1 [==============================] - 0s 11ms/step - loss: 0.6073 - accuracy: 0.6000\n",
            "Epoch 13/50\n",
            "1/1 [==============================] - 0s 10ms/step - loss: 0.5596 - accuracy: 0.7500\n",
            "Epoch 14/50\n",
            "1/1 [==============================] - 0s 11ms/step - loss: 0.5200 - accuracy: 0.7500\n",
            "Epoch 15/50\n",
            "1/1 [==============================] - 0s 11ms/step - loss: 0.4831 - accuracy: 0.8500\n",
            "Epoch 16/50\n",
            "1/1 [==============================] - 0s 13ms/step - loss: 0.4485 - accuracy: 0.9000\n",
            "Epoch 17/50\n",
            "1/1 [==============================] - 0s 12ms/step - loss: 0.4157 - accuracy: 0.9000\n",
            "Epoch 18/50\n",
            "1/1 [==============================] - 0s 13ms/step - loss: 0.3872 - accuracy: 0.9000\n",
            "Epoch 19/50\n",
            "1/1 [==============================] - 0s 13ms/step - loss: 0.3634 - accuracy: 0.8500\n",
            "Epoch 20/50\n",
            "1/1 [==============================] - 0s 18ms/step - loss: 0.3422 - accuracy: 0.8500\n",
            "Epoch 21/50\n",
            "1/1 [==============================] - 0s 18ms/step - loss: 0.3233 - accuracy: 0.8500\n",
            "Epoch 22/50\n",
            "1/1 [==============================] - 0s 19ms/step - loss: 0.3051 - accuracy: 0.8500\n",
            "Epoch 23/50\n",
            "1/1 [==============================] - 0s 14ms/step - loss: 0.2872 - accuracy: 0.8500\n",
            "Epoch 24/50\n",
            "1/1 [==============================] - 0s 14ms/step - loss: 0.2696 - accuracy: 0.8500\n",
            "Epoch 25/50\n",
            "1/1 [==============================] - 0s 14ms/step - loss: 0.2539 - accuracy: 0.8500\n",
            "Epoch 26/50\n",
            "1/1 [==============================] - 0s 15ms/step - loss: 0.2410 - accuracy: 0.8500\n",
            "Epoch 27/50\n",
            "1/1 [==============================] - 0s 17ms/step - loss: 0.2278 - accuracy: 0.8500\n",
            "Epoch 28/50\n",
            "1/1 [==============================] - 0s 14ms/step - loss: 0.2152 - accuracy: 0.8500\n",
            "Epoch 29/50\n",
            "1/1 [==============================] - 0s 13ms/step - loss: 0.2039 - accuracy: 0.8500\n",
            "Epoch 30/50\n",
            "1/1 [==============================] - 0s 12ms/step - loss: 0.1922 - accuracy: 0.9000\n",
            "Epoch 31/50\n",
            "1/1 [==============================] - 0s 12ms/step - loss: 0.1800 - accuracy: 0.9000\n",
            "Epoch 32/50\n",
            "1/1 [==============================] - 0s 10ms/step - loss: 0.1672 - accuracy: 0.9500\n",
            "Epoch 33/50\n",
            "1/1 [==============================] - 0s 12ms/step - loss: 0.1544 - accuracy: 0.9500\n",
            "Epoch 34/50\n",
            "1/1 [==============================] - 0s 11ms/step - loss: 0.1438 - accuracy: 0.9500\n",
            "Epoch 35/50\n",
            "1/1 [==============================] - 0s 10ms/step - loss: 0.1363 - accuracy: 0.9500\n",
            "Epoch 36/50\n",
            "1/1 [==============================] - 0s 14ms/step - loss: 0.1287 - accuracy: 0.9500\n",
            "Epoch 37/50\n",
            "1/1 [==============================] - 0s 12ms/step - loss: 0.1211 - accuracy: 0.9500\n",
            "Epoch 38/50\n",
            "1/1 [==============================] - 0s 10ms/step - loss: 0.1135 - accuracy: 0.9500\n",
            "Epoch 39/50\n",
            "1/1 [==============================] - 0s 14ms/step - loss: 0.1062 - accuracy: 0.9500\n",
            "Epoch 40/50\n",
            "1/1 [==============================] - 0s 15ms/step - loss: 0.0990 - accuracy: 0.9500\n",
            "Epoch 41/50\n",
            "1/1 [==============================] - 0s 13ms/step - loss: 0.0924 - accuracy: 0.9500\n",
            "Epoch 42/50\n",
            "1/1 [==============================] - 0s 13ms/step - loss: 0.0859 - accuracy: 0.9500\n",
            "Epoch 43/50\n",
            "1/1 [==============================] - 0s 13ms/step - loss: 0.0794 - accuracy: 0.9500\n",
            "Epoch 44/50\n",
            "1/1 [==============================] - 0s 13ms/step - loss: 0.0734 - accuracy: 0.9500\n",
            "Epoch 45/50\n",
            "1/1 [==============================] - 0s 13ms/step - loss: 0.0676 - accuracy: 1.0000\n",
            "Epoch 46/50\n",
            "1/1 [==============================] - 0s 12ms/step - loss: 0.0618 - accuracy: 1.0000\n",
            "Epoch 47/50\n",
            "1/1 [==============================] - 0s 11ms/step - loss: 0.0572 - accuracy: 1.0000\n",
            "Epoch 48/50\n",
            "1/1 [==============================] - 0s 12ms/step - loss: 0.0538 - accuracy: 1.0000\n",
            "Epoch 49/50\n",
            "1/1 [==============================] - 0s 12ms/step - loss: 0.0507 - accuracy: 1.0000\n",
            "Epoch 50/50\n",
            "1/1 [==============================] - 0s 10ms/step - loss: 0.0474 - accuracy: 1.0000\n"
          ]
        }
      ],
      "source": [
        "model_RNA = tf.keras.models.Sequential([\n",
        "    tf.keras.layers.Dense(128, activation='relu', input_shape=(3,)),\n",
        "    tf.keras.layers.Dense(64, activation='relu'),\n",
        "    tf.keras.layers.Dense(32, activation='relu'),\n",
        "    tf.keras.layers.Dense(1, activation='linear')\n",
        "])\n",
        "model_RNA.summary()\n",
        "\n",
        "es = EarlyStopping(monitor='val_loss',\n",
        "                   mode='min',\n",
        "                   patience=10,\n",
        "                   restore_best_weights=True)\n",
        "\n",
        "model_RNA.compile(loss='binary_crossentropy',\n",
        "                  optimizer='adam',\n",
        "                  metrics=['accuracy'],)\n",
        "\n",
        "epochs=50\n",
        "\n",
        "history = model_RNA.fit(X_train, y_train,\n",
        "                        epochs=epochs,\n",
        "                        batch_size=32,\n",
        "                        verbose=1)"
      ]
    },
    {
      "cell_type": "code",
      "execution_count": 113,
      "metadata": {
        "colab": {
          "base_uri": "https://localhost:8080/",
          "height": 434
        },
        "id": "3Tuia19Y2ChW",
        "outputId": "60dcfa5a-28b4-4422-e554-854be7679b6d"
      },
      "outputs": [
        {
          "output_type": "display_data",
          "data": {
            "text/plain": [
              "<Figure size 1800x800 with 1 Axes>"
            ],
            "image/png": "[encoded data removed]"
          },
          "metadata": {}
        }
      ],
      "source": [
        "import matplotlib.pyplot as plt\n",
        "from matplotlib import rcParams\n",
        "\n",
        "rcParams['figure.figsize'] = (18, 8)\n",
        "rcParams['axes.spines.top'] = False\n",
        "rcParams['axes.spines.right'] = False\n",
        "\n",
        "plt.plot(np.arange(1, epochs + 1), history.history['loss'], color='red', label='Loss')\n",
        "plt.plot(np.arange(1, epochs + 1), history.history['accuracy'], color='green', label='Accuracy')\n",
        "plt.title('Evaluation metrics', size=20)\n",
        "plt.xlabel('Epoch', size=14)\n",
        "plt.legend();"
      ]
    },
    {
      "cell_type": "code",
      "execution_count": 114,
      "metadata": {
        "colab": {
          "base_uri": "https://localhost:8080/",
          "height": 0
        },
        "id": "z3Y8gncw2ChW",
        "outputId": "f2e6d190-9e11-4d1f-8877-85d199f2005e"
      },
      "outputs": [
        {
          "output_type": "stream",
          "name": "stderr",
          "text": [
            "WARNING:tensorflow:6 out of the last 8 calls to <function Model.make_predict_function.<locals>.predict_function at 0x7b24bae39750> triggered tf.function retracing. Tracing is expensive and the excessive number of tracings could be due to (1) creating @tf.function repeatedly in a loop, (2) passing tensors with different shapes, (3) passing Python objects instead of tensors. For (1), please define your @tf.function outside of the loop. For (2), @tf.function has reduce_retracing=True option that can avoid unnecessary retracing. For (3), please refer to https://www.tensorflow.org/guide/function#controlling_retracing and https://www.tensorflow.org/api_docs/python/tf/function for  more details.\n"
          ]
        },
        {
          "output_type": "stream",
          "name": "stdout",
          "text": [
            "1/1 [==============================] - 0s 74ms/step\n",
            "[0, 1, 1, 0, 0, 1, 0, 1, 1, 1]\n"
          ]
        }
      ],
      "source": [
        "RNA_predict = model_RNA.predict(test_scaled)\n",
        "\n",
        "predict_class = [1 if prob > 0.5 else 0 for prob in np.ravel(RNA_predict)]\n",
        "print(predict_class)"
      ]
    },
    {
      "cell_type": "code",
      "execution_count": 115,
      "metadata": {
        "id": "qT36EzOo2ChX"
      },
      "outputs": [],
      "source": [
        "arr_compare = predict_convencional == predict_class"
      ]
    },
    {
      "cell_type": "code",
      "execution_count": 116,
      "metadata": {
        "colab": {
          "base_uri": "https://localhost:8080/",
          "height": 0
        },
        "id": "SZTTc00p2ChX",
        "outputId": "ceee5cd1-fc18-4b88-ba5d-b336be32eeea"
      },
      "outputs": [
        {
          "output_type": "execute_result",
          "data": {
            "text/plain": [
              "(array([False,  True]), array([1, 9]))"
            ]
          },
          "metadata": {},
          "execution_count": 116
        }
      ],
      "source": [
        "np.unique(arr_compare, return_counts=True)"
      ]
    },
    {
      "cell_type": "code",
      "source": [
        "from sklearn.metrics import confusion_matrix\n",
        "\n",
        "confusion_matrix(y_test, predict_class)"
      ],
      "metadata": {
        "colab": {
          "base_uri": "https://localhost:8080/",
          "height": 0
        },
        "id": "zf1WBMF5GjaT",
        "outputId": "0534d482-dbd9-42f8-aca5-0b036d39c4c9"
      },
      "execution_count": 117,
      "outputs": [
        {
          "output_type": "execute_result",
          "data": {
            "text/plain": [
              "array([[4, 4],\n",
              "       [0, 2]])"
            ]
          },
          "metadata": {},
          "execution_count": 117
        }
      ]
    },
    {
      "cell_type": "code",
      "source": [
        "weights = model_RNA.layers[1].get_weights()[0]\n",
        "biases = model_RNA.layers[1].get_weights()[1]"
      ],
      "metadata": {
        "id": "tn--zzEBJXZZ"
      },
      "execution_count": 118,
      "outputs": []
    },
    {
      "cell_type": "code",
      "source": [
        "print(weights, biases)"
      ],
      "metadata": {
        "colab": {
          "base_uri": "https://localhost:8080/",
          "height": 0
        },
        "id": "WFNheKjvJgGW",
        "outputId": "9c983a88-0e89-459b-c5c5-e7375b8b3e6f"
      },
      "execution_count": 119,
      "outputs": [
        {
          "output_type": "stream",
          "name": "stdout",
          "text": [
            "[[-0.11125508 -0.13761047  0.01842587 ... -0.03132918  0.1326172\n",
            "   0.09281661]\n",
            " [-0.08181886 -0.17935675  0.11694491 ... -0.14670347  0.12505403\n",
            "   0.02311805]\n",
            " [ 0.144206    0.08683147  0.21351077 ...  0.11486471  0.13663165\n",
            "  -0.03378593]\n",
            " ...\n",
            " [ 0.07055984  0.04201485  0.13792636 ... -0.00219942  0.11484464\n",
            "  -0.01296141]\n",
            " [ 0.05243373  0.07220937  0.13704582 ... -0.06221643  0.14085199\n",
            "  -0.02444274]\n",
            " [-0.06117889 -0.05272489 -0.13270219 ...  0.11039959  0.0512828\n",
            "  -0.0896337 ]] [-0.01052766 -0.01487602 -0.00807847  0.03249658 -0.01130856  0.01877796\n",
            "  0.01637821  0.01427754  0.02408347 -0.00738345  0.01040804  0.01135751\n",
            " -0.00857358  0.00184164  0.00815277 -0.00337651  0.03615468 -0.01186068\n",
            "  0.01450147 -0.0077732  -0.01017693  0.01282151  0.01193925  0.01125405\n",
            " -0.00605706 -0.0063599  -0.00805981  0.02556445 -0.01096364  0.02041039\n",
            "  0.01216911  0.01319983  0.01116776 -0.01326862 -0.00699825 -0.00589936\n",
            "  0.00638798  0.01141676 -0.00618924 -0.00288049  0.01599684 -0.00646934\n",
            "  0.00968632 -0.00850667  0.0259282  -0.01219956  0.01688723  0.02008719\n",
            " -0.0157504   0.01779436 -0.00832719  0.01363519  0.03219783 -0.00973939\n",
            "  0.01550712  0.02385893 -0.0039615  -0.00998515 -0.00970573  0.01401447\n",
            "  0.         -0.00670762 -0.01130978  0.02318856]\n"
          ]
        }
      ]
    }
  ],
  "metadata": {
    "kernelspec": {
      "display_name": "Python 3",
      "language": "python",
      "name": "python3"
    },
    "language_info": {
      "codemirror_mode": {
        "name": "ipython",
        "version": 3
      },
      "file_extension": ".py",
      "mimetype": "text/x-python",
      "name": "python",
      "nbconvert_exporter": "python",
      "pygments_lexer": "ipython3",
      "version": "3.10.6"
    },
    "orig_nbformat": 4,
    "colab": {
      "provenance": []
    }
  },
  "nbformat": 4,
  "nbformat_minor": 0
}